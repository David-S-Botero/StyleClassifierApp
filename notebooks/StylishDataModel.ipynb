{
 "cells": [
  {
   "cell_type": "code",
   "execution_count": 6,
   "id": "aebf9611-3fdb-401c-b8ab-8599dffb6fcd",
   "metadata": {},
   "outputs": [],
   "source": [
    "from torchvision import datasets, transforms\n",
    "from torch.utils.data import DataLoader\n",
    "PATH_ROOT=\"/home/david-botero/Code/StyleClassifierApp/data\"\n",
    "TRAIN_ROOT=f\"{PATH_ROOT}/train\"\n",
    "TEST_ROOT=f\"{PATH_ROOT}/train\"\n",
    "VAL_ROOT=f\"{PATH_ROOT}/valid\""
   ]
  },
  {
   "cell_type": "code",
   "execution_count": 7,
   "id": "2a5475bd-eb53-41bb-ab74-10aa38d87e07",
   "metadata": {},
   "outputs": [],
   "source": [
    "transformations=transforms.Compose([\n",
    "    transforms.Resize((224, 224)),\n",
    "    transforms.ToTensor()\n",
    "])\n",
    "\n",
    "train_dataset = datasets.ImageFolder(root=TRAIN_ROOT, transform=transformations)\n",
    "train_dataloader = DataLoader(dataset, batch_size=32, shuffle=True)\n",
    "\n",
    "test_dataset = datasets.ImageFolder(root=TEST_ROOT, transform=transformations)\n",
    "test_dataloader = DataLoader(dataset, batch_size=32, shuffle=True)\n",
    "\n",
    "val_dataset = datasets.ImageFolder(root=VAL_ROOT, transform=transformations)\n",
    "val_dataloader = DataLoader(dataset, batch_size=32, shuffle=True)"
   ]
  },
  {
   "cell_type": "code",
   "execution_count": null,
   "id": "92ea423e-d40a-45af-8307-50776abcf726",
   "metadata": {},
   "outputs": [],
   "source": []
  }
 ],
 "metadata": {
  "kernelspec": {
   "display_name": "Poetry Environment",
   "language": "python",
   "name": "stylishpoetry"
  },
  "language_info": {
   "codemirror_mode": {
    "name": "ipython",
    "version": 3
   },
   "file_extension": ".py",
   "mimetype": "text/x-python",
   "name": "python",
   "nbconvert_exporter": "python",
   "pygments_lexer": "ipython3",
   "version": "3.12.3"
  }
 },
 "nbformat": 4,
 "nbformat_minor": 5
}
